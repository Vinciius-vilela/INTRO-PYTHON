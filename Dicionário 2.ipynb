{
 "cells": [
  {
   "cell_type": "markdown",
   "id": "bc30ca93",
   "metadata": {},
   "source": [
    "# Caso queiramos, podemos criar Dicionários vazios"
   ]
  },
  {
   "cell_type": "code",
   "execution_count": 2,
   "id": "4ec2657b",
   "metadata": {},
   "outputs": [],
   "source": [
    "dicionario_vazio = {}"
   ]
  },
  {
   "cell_type": "code",
   "execution_count": 4,
   "id": "b41901b9",
   "metadata": {},
   "outputs": [
    {
     "data": {
      "text/plain": [
       "{}"
      ]
     },
     "execution_count": 4,
     "metadata": {},
     "output_type": "execute_result"
    }
   ],
   "source": [
    "dicionario_vazio"
   ]
  },
  {
   "cell_type": "code",
   "execution_count": 6,
   "id": "8f399ffe",
   "metadata": {},
   "outputs": [],
   "source": [
    "# posso fazer a adição de elementos em um dicionário vazio, como o criado acima\n",
    "dicionario_vazio[\"posição 1\"] = 1"
   ]
  },
  {
   "cell_type": "code",
   "execution_count": 8,
   "id": "efbd6cf0",
   "metadata": {},
   "outputs": [
    {
     "data": {
      "text/plain": [
       "{'posição 1': 1}"
      ]
     },
     "execution_count": 8,
     "metadata": {},
     "output_type": "execute_result"
    }
   ],
   "source": [
    "dicionario_vazio"
   ]
  },
  {
   "cell_type": "code",
   "execution_count": 10,
   "id": "0ef15d33",
   "metadata": {},
   "outputs": [],
   "source": [
    "dicionario_vazio[1] = 2"
   ]
  },
  {
   "cell_type": "code",
   "execution_count": 12,
   "id": "64e62642",
   "metadata": {},
   "outputs": [
    {
     "data": {
      "text/plain": [
       "{'posição 1': 1, 1: 2}"
      ]
     },
     "execution_count": 12,
     "metadata": {},
     "output_type": "execute_result"
    }
   ],
   "source": [
    "dicionario_vazio"
   ]
  },
  {
   "cell_type": "code",
   "execution_count": 15,
   "id": "bfaa62cf",
   "metadata": {},
   "outputs": [],
   "source": [
    "# Nós até podemos criar chaves e valores com as mesmas informações, mas isso é altamente não recomendável\n",
    "dicionario_teste = {\"isso é uma string\": \"ABC\", \"Segunda parte\": \"Isso é uma string\"}"
   ]
  },
  {
   "cell_type": "code",
   "execution_count": 17,
   "id": "8ecff47b",
   "metadata": {},
   "outputs": [
    {
     "data": {
      "text/plain": [
       "{'isso é uma string': 'ABC', 'Segunda parte': 'Isso é uma string'}"
      ]
     },
     "execution_count": 17,
     "metadata": {},
     "output_type": "execute_result"
    }
   ],
   "source": [
    "dicionario_teste"
   ]
  },
  {
   "cell_type": "code",
   "execution_count": 23,
   "id": "fdf68606",
   "metadata": {},
   "outputs": [],
   "source": [
    "# vale lembrar que podemos criar um dicionário de listas\n",
    "dicionario_listas = {\"Key1\": 123, \"Key2\":[\"ABC\", \"PQR\", \"XYZ\", \"Teste234\"], \"Key3\":[135, 555, 697]}"
   ]
  },
  {
   "cell_type": "code",
   "execution_count": 26,
   "id": "545da6bc",
   "metadata": {},
   "outputs": [
    {
     "data": {
      "text/plain": [
       "{'Key1': 123,\n",
       " 'Key2': ['ABC', 'PQR', 'XYZ', 'Teste234'],\n",
       " 'Key3': [135, 555, 697]}"
      ]
     },
     "execution_count": 26,
     "metadata": {},
     "output_type": "execute_result"
    }
   ],
   "source": [
    "dicionario_listas"
   ]
  },
  {
   "cell_type": "code",
   "execution_count": 28,
   "id": "930034be",
   "metadata": {},
   "outputs": [
    {
     "data": {
      "text/plain": [
       "123"
      ]
     },
     "execution_count": 28,
     "metadata": {},
     "output_type": "execute_result"
    }
   ],
   "source": [
    "dicionario_listas[\"Key1\"]"
   ]
  },
  {
   "cell_type": "code",
   "execution_count": 30,
   "id": "9d504447",
   "metadata": {},
   "outputs": [
    {
     "data": {
      "text/plain": [
       "['ABC', 'PQR', 'XYZ', 'Teste234']"
      ]
     },
     "execution_count": 30,
     "metadata": {},
     "output_type": "execute_result"
    }
   ],
   "source": [
    "dicionario_listas[\"Key2\"]"
   ]
  },
  {
   "cell_type": "code",
   "execution_count": 39,
   "id": "39ab2fbb",
   "metadata": {},
   "outputs": [
    {
     "data": {
      "text/plain": [
       "'teste234'"
      ]
     },
     "execution_count": 39,
     "metadata": {},
     "output_type": "execute_result"
    }
   ],
   "source": [
    "dicionario_listas[\"Key2\"][3].lower()"
   ]
  },
  {
   "cell_type": "code",
   "execution_count": 42,
   "id": "b5c8e30e",
   "metadata": {},
   "outputs": [
    {
     "data": {
      "text/plain": [
       "'TESTE234'"
      ]
     },
     "execution_count": 42,
     "metadata": {},
     "output_type": "execute_result"
    }
   ],
   "source": [
    "dicionario_listas[\"Key2\"][3].upper()"
   ]
  },
  {
   "cell_type": "code",
   "execution_count": 45,
   "id": "2bd84c8d",
   "metadata": {},
   "outputs": [
    {
     "data": {
      "text/plain": [
       "{'Key1': 123,\n",
       " 'Key2': ['ABC', 'PQR', 'XYZ', 'Teste234'],\n",
       " 'Key3': [135, 555, 697]}"
      ]
     },
     "execution_count": 45,
     "metadata": {},
     "output_type": "execute_result"
    }
   ],
   "source": [
    "dicionario_listas"
   ]
  },
  {
   "cell_type": "code",
   "execution_count": 48,
   "id": "c8557264",
   "metadata": {},
   "outputs": [
    {
     "data": {
      "text/plain": [
       "125"
      ]
     },
     "execution_count": 48,
     "metadata": {},
     "output_type": "execute_result"
    }
   ],
   "source": [
    "# Podemos realizar operações matemáticas, utilizando dicionários\n",
    "dicionario_listas[\"Key3\"][0] - 10"
   ]
  },
  {
   "cell_type": "code",
   "execution_count": 51,
   "id": "6139edb4",
   "metadata": {},
   "outputs": [
    {
     "data": {
      "text/plain": [
       "135"
      ]
     },
     "execution_count": 51,
     "metadata": {},
     "output_type": "execute_result"
    }
   ],
   "source": [
    "dicionario_listas[\"Key3\"][0]"
   ]
  },
  {
   "cell_type": "code",
   "execution_count": 54,
   "id": "0f166c0a",
   "metadata": {},
   "outputs": [
    {
     "data": {
      "text/plain": [
       "-65"
      ]
     },
     "execution_count": 54,
     "metadata": {},
     "output_type": "execute_result"
    }
   ],
   "source": [
    "dicionario_listas[\"Key3\"][0] - 200"
   ]
  },
  {
   "cell_type": "code",
   "execution_count": null,
   "id": "d65f0f62",
   "metadata": {},
   "outputs": [],
   "source": []
  }
 ],
 "metadata": {
  "kernelspec": {
   "display_name": "Python 3 (ipykernel)",
   "language": "python",
   "name": "python3"
  },
  "language_info": {
   "codemirror_mode": {
    "name": "ipython",
    "version": 3
   },
   "file_extension": ".py",
   "mimetype": "text/x-python",
   "name": "python",
   "nbconvert_exporter": "python",
   "pygments_lexer": "ipython3",
   "version": "3.10.7"
  }
 },
 "nbformat": 4,
 "nbformat_minor": 5
}
