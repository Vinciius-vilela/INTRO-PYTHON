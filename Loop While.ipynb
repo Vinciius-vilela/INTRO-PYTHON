{
 "cells": [
  {
   "cell_type": "markdown",
   "id": "e37388c3",
   "metadata": {},
   "source": [
    "# Loop While"
   ]
  },
  {
   "cell_type": "code",
   "execution_count": null,
   "id": "dc9979ea",
   "metadata": {},
   "outputs": [],
   "source": [
    "# usando o loop while para imprimir os valores de 0 a 9\n",
    "counter = 0\n",
    "while counter < 10:\n",
    "    print(counter)\n",
    "    counter = counter + 1 # se eu tirar o counter + 1, o sistema vai travar"
   ]
  },
  {
   "cell_type": "code",
   "execution_count": 6,
   "id": "bf386ec7",
   "metadata": {},
   "outputs": [
    {
     "name": "stdout",
     "output_type": "stream",
     "text": [
      "O valor de x nesta integração é:  0\n",
      " x ainda é menor que 10, somando 1 a x\n",
      "O valor de x nesta integração é:  1\n",
      " x ainda é menor que 10, somando 1 a x\n",
      "O valor de x nesta integração é:  2\n",
      " x ainda é menor que 10, somando 1 a x\n",
      "O valor de x nesta integração é:  3\n",
      " x ainda é menor que 10, somando 1 a x\n",
      "O valor de x nesta integração é:  4\n",
      " x ainda é menor que 10, somando 1 a x\n",
      "O valor de x nesta integração é:  5\n",
      " x ainda é menor que 10, somando 1 a x\n",
      "O valor de x nesta integração é:  6\n",
      " x ainda é menor que 10, somando 1 a x\n",
      "O valor de x nesta integração é:  7\n",
      " x ainda é menor que 10, somando 1 a x\n",
      "O valor de x nesta integração é:  8\n",
      " x ainda é menor que 10, somando 1 a x\n",
      "O valor de x nesta integração é:  9\n",
      " x ainda é menor que 10, somando 1 a x\n",
      "Loop concluído!\n"
     ]
    }
   ],
   "source": [
    "# também é possível usar a clausula else para encerrar o loop while\n",
    "\n",
    "x = 0\n",
    "\n",
    "while x < 10:\n",
    "    print (\"O valor de x nesta integração é: \", x)\n",
    "    print (\" x ainda é menor que 10, somando 1 a x\")\n",
    "    x += 1\n",
    "else:\n",
    "    print(\"Loop concluído!\")"
   ]
  },
  {
   "cell_type": "markdown",
   "id": "ab945633",
   "metadata": {},
   "source": [
    "# Break"
   ]
  },
  {
   "cell_type": "code",
   "execution_count": 16,
   "id": "7927c7dd",
   "metadata": {},
   "outputs": [
    {
     "name": "stdout",
     "output_type": "stream",
     "text": [
      "Ainda é menor que 100 0\n",
      "Ainda é menor que 100 1\n",
      "Ainda é menor que 100 2\n",
      "Ainda é menor que 100 3\n",
      "Ainda é menor que 100 4\n",
      "Ainda é menor que 100 5\n",
      "Ainda é menor que 100 6\n",
      "Ainda é menor que 100 7\n",
      "Ainda é menor que 100 8\n",
      "Ainda é menor que 100 9\n",
      "Ainda é menor que 100 10\n",
      "Ainda é menor que 100 11\n",
      "Ainda é menor que 100 12\n",
      "Ainda é menor que 100 13\n",
      "Ainda é menor que 100 14\n",
      "Parado!\n"
     ]
    }
   ],
   "source": [
    "valor = 0\n",
    "while valor < 100:\n",
    "    if valor == 15:\n",
    "        print(\"Parado!\")\n",
    "        break\n",
    "    else:\n",
    "        pass\n",
    "    print(\"Ainda é menor que 100\", valor)\n",
    "    valor = valor +1"
   ]
  },
  {
   "cell_type": "code",
   "execution_count": 18,
   "id": "02e85227",
   "metadata": {},
   "outputs": [
    {
     "name": "stdout",
     "output_type": "stream",
     "text": [
      "P\n",
      "y\n",
      "t\n",
      "o\n",
      "n\n"
     ]
    }
   ],
   "source": [
    "# usando o continue, para pularmos uma interação em específico\n",
    "for nome_string in \"Python\":\n",
    "    if nome_string == \"h\":\n",
    "        continue\n",
    "    print(nome_string)"
   ]
  },
  {
   "cell_type": "markdown",
   "id": "fa929edb",
   "metadata": {},
   "source": [
    "# While e for juntos"
   ]
  },
  {
   "cell_type": "code",
   "execution_count": 21,
   "id": "38e00f63",
   "metadata": {},
   "outputs": [
    {
     "name": "stdout",
     "output_type": "stream",
     "text": [
      "2 é um número primo\n",
      "3 é um número primo\n",
      "5 é um número primo\n",
      "7 é um número primo\n",
      "11 é um número primo\n",
      "13 é um número primo\n",
      "17 é um número primo\n",
      "19 é um número primo\n",
      "23 é um número primo\n",
      "29 é um número primo\n"
     ]
    }
   ],
   "source": [
    "# utilizando os dois para termos os números primos de 2 a 30\n",
    "for i in range (2, 30):\n",
    "    j = 2\n",
    "    counter = 0\n",
    "    while j < i:\n",
    "        if i % j == 0:\n",
    "            counter = 1\n",
    "            j = j + 1\n",
    "        else:\n",
    "            j = j + 1\n",
    "            \n",
    "    if counter == 0:\n",
    "        print(str(i) + \" é um número primo\")\n",
    "        counter = 0\n",
    "    else:\n",
    "            counter = 0"
   ]
  }
 ],
 "metadata": {
  "kernelspec": {
   "display_name": "Python 3 (ipykernel)",
   "language": "python",
   "name": "python3"
  },
  "language_info": {
   "codemirror_mode": {
    "name": "ipython",
    "version": 3
   },
   "file_extension": ".py",
   "mimetype": "text/x-python",
   "name": "python",
   "nbconvert_exporter": "python",
   "pygments_lexer": "ipython3",
   "version": "3.10.7"
  }
 },
 "nbformat": 4,
 "nbformat_minor": 5
}
