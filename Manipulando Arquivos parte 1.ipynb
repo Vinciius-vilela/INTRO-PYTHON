{
 "cells": [
  {
   "cell_type": "markdown",
   "id": "fbde7ebd",
   "metadata": {},
   "source": [
    "# Lendo arquivos"
   ]
  },
  {
   "cell_type": "code",
   "execution_count": 6,
   "id": "ff4a2549",
   "metadata": {},
   "outputs": [],
   "source": [
    "# Abrindo arquivos para leitura, o \"r\" depois da virgula, significa Read, ou seja, só podemos ler o arquivo\n",
    "arq1 = open(\"C:/Users/vinicius.vilela/Desktop/pythonFundamentos/Cap04/Notebooks/arquivos/arquivoTeste.txt\", \"r\")"
   ]
  },
  {
   "cell_type": "code",
   "execution_count": 2,
   "id": "0ad8b10f",
   "metadata": {},
   "outputs": [
    {
     "name": "stdout",
     "output_type": "stream",
     "text": [
      "Python e um puta case de sucesso meo\n"
     ]
    }
   ],
   "source": [
    "# leitura do arquivo\n",
    "print(arq1.read())"
   ]
  },
  {
   "cell_type": "code",
   "execution_count": 3,
   "id": "b6b50aeb",
   "metadata": {},
   "outputs": [
    {
     "name": "stdout",
     "output_type": "stream",
     "text": [
      "36\n"
     ]
    }
   ],
   "source": [
    "# contar o número de caracteres com o tell\n",
    "print(arq1.tell())"
   ]
  },
  {
   "cell_type": "code",
   "execution_count": 15,
   "id": "b29d99f6",
   "metadata": {},
   "outputs": [
    {
     "name": "stdout",
     "output_type": "stream",
     "text": [
      "0\n"
     ]
    }
   ],
   "source": [
    "# indo para um local em específico no arquivo (primeiro digito = linha, segundo digito = a coluna)\n",
    "print(arq1.seek(0,0))"
   ]
  },
  {
   "cell_type": "code",
   "execution_count": 7,
   "id": "900a58c0",
   "metadata": {},
   "outputs": [
    {
     "name": "stdout",
     "output_type": "stream",
     "text": [
      "Python e u\n"
     ]
    }
   ],
   "source": [
    "# lendo uma quantidade específica de caracteres\n",
    "print(arq1.read(10))"
   ]
  },
  {
   "cell_type": "markdown",
   "id": "c0a9163c",
   "metadata": {},
   "source": [
    "# Gravando arquivos"
   ]
  },
  {
   "cell_type": "code",
   "execution_count": 9,
   "id": "915533c6",
   "metadata": {},
   "outputs": [],
   "source": [
    "# abrir o arquivo para a gravação\n",
    "arq2 = open(\"C:/Users/vinicius.vilela/Desktop/pythonFundamentos/Cap04/Notebooks/arquivos/arquivoTeste.txt\", \"w\")"
   ]
  },
  {
   "cell_type": "code",
   "execution_count": 11,
   "id": "6a6b12f5",
   "metadata": {},
   "outputs": [
    {
     "ename": "UnsupportedOperation",
     "evalue": "not readable",
     "output_type": "error",
     "traceback": [
      "\u001b[1;31m---------------------------------------------------------------------------\u001b[0m",
      "\u001b[1;31mUnsupportedOperation\u001b[0m                      Traceback (most recent call last)",
      "Cell \u001b[1;32mIn [11], line 2\u001b[0m\n\u001b[0;32m      1\u001b[0m \u001b[38;5;66;03m# como utilizei o \"w\" de Write, ali em cima, o python não vai me deixar utilizar comandos de leitura nesse arquivo\u001b[39;00m\n\u001b[1;32m----> 2\u001b[0m \u001b[38;5;28mprint\u001b[39m(arq2\u001b[38;5;241m.\u001b[39mread())\n",
      "\u001b[1;31mUnsupportedOperation\u001b[0m: not readable"
     ]
    }
   ],
   "source": [
    "# como utilizei o \"w\" de Write, ali em cima, o python não vai me deixar utilizar comandos de leitura nesse arquivo\n",
    "print(arq2.read())"
   ]
  },
  {
   "cell_type": "code",
   "execution_count": 13,
   "id": "ce7aeb5a",
   "metadata": {},
   "outputs": [
    {
     "data": {
      "text/plain": [
       "32"
      ]
     },
     "execution_count": 13,
     "metadata": {},
     "output_type": "execute_result"
    }
   ],
   "source": [
    "# o comando abaixo é utilizado para gravar um arquivo\n",
    "arq2.write(\"teste para ver se funciona mesmo\")"
   ]
  },
  {
   "cell_type": "code",
   "execution_count": 15,
   "id": "644e539f",
   "metadata": {},
   "outputs": [],
   "source": [
    "# fechando o arq2\n",
    "arq2.close()"
   ]
  },
  {
   "cell_type": "code",
   "execution_count": 21,
   "id": "59954785",
   "metadata": {},
   "outputs": [],
   "source": [
    "# abrindo o arq2 para ver como ele está agora\n",
    "arq2 = open(\"C:/Users/vinicius.vilela/Desktop/pythonFundamentos/Cap04/Notebooks/arquivos/arquivoTeste.txt\", \"r\")"
   ]
  },
  {
   "cell_type": "code",
   "execution_count": 26,
   "id": "c894c30f",
   "metadata": {},
   "outputs": [
    {
     "ename": "UnsupportedOperation",
     "evalue": "not readable",
     "output_type": "error",
     "traceback": [
      "\u001b[1;31m---------------------------------------------------------------------------\u001b[0m",
      "\u001b[1;31mUnsupportedOperation\u001b[0m                      Traceback (most recent call last)",
      "Cell \u001b[1;32mIn [26], line 1\u001b[0m\n\u001b[1;32m----> 1\u001b[0m \u001b[38;5;28mprint\u001b[39m(arq2\u001b[38;5;241m.\u001b[39mread())\n",
      "\u001b[1;31mUnsupportedOperation\u001b[0m: not readable"
     ]
    }
   ],
   "source": [
    "print(arq2.read())"
   ]
  },
  {
   "cell_type": "code",
   "execution_count": 27,
   "id": "77308527",
   "metadata": {},
   "outputs": [],
   "source": [
    "# agora vamos utilizar o \"a\" que vem de append, para adicionar um texto, sem sobrescrever o que já existe\n",
    "arq2 = open(\"C:/Users/vinicius.vilela/Desktop/pythonFundamentos/Cap04/Notebooks/arquivos/arquivoTeste.txt\", \"a\")"
   ]
  },
  {
   "cell_type": "code",
   "execution_count": 32,
   "id": "50867c54",
   "metadata": {},
   "outputs": [
    {
     "data": {
      "text/plain": [
       "45"
      ]
     },
     "execution_count": 32,
     "metadata": {},
     "output_type": "execute_result"
    }
   ],
   "source": [
    "arq2.write (\" acrescentando o arquivo agora, como um teste\")"
   ]
  },
  {
   "cell_type": "code",
   "execution_count": 34,
   "id": "04bf158b",
   "metadata": {},
   "outputs": [],
   "source": [
    "arq2.close()"
   ]
  },
  {
   "cell_type": "code",
   "execution_count": 35,
   "id": "73a8a383",
   "metadata": {},
   "outputs": [],
   "source": [
    "arq2 = open(\"C:/Users/vinicius.vilela/Desktop/pythonFundamentos/Cap04/Notebooks/arquivos/arquivoTeste.txt\", \"r\")"
   ]
  },
  {
   "cell_type": "code",
   "execution_count": 36,
   "id": "614e3d73",
   "metadata": {},
   "outputs": [
    {
     "name": "stdout",
     "output_type": "stream",
     "text": [
      "teste para ver se funciona mesmoteste para ver se funciona mesmo acrescentando o arquivo agora, como um teste acrescentando o arquivo agora, como um teste acrescentando o arquivo agora, como um teste\n"
     ]
    }
   ],
   "source": [
    "# imprimindo ele\n",
    "print(arq2.read())"
   ]
  }
 ],
 "metadata": {
  "kernelspec": {
   "display_name": "Python 3 (ipykernel)",
   "language": "python",
   "name": "python3"
  },
  "language_info": {
   "codemirror_mode": {
    "name": "ipython",
    "version": 3
   },
   "file_extension": ".py",
   "mimetype": "text/x-python",
   "name": "python",
   "nbconvert_exporter": "python",
   "pygments_lexer": "ipython3",
   "version": "3.10.7"
  }
 },
 "nbformat": 4,
 "nbformat_minor": 5
}
