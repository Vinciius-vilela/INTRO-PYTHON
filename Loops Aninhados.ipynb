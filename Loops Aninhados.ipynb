{
 "cells": [
  {
   "cell_type": "markdown",
   "id": "517948d5",
   "metadata": {},
   "source": [
    "# Loops Aninhados"
   ]
  },
  {
   "cell_type": "code",
   "execution_count": 9,
   "id": "5ceae4f7",
   "metadata": {},
   "outputs": [
    {
     "name": "stdout",
     "output_type": "stream",
     "text": [
      "0\n",
      "1\n",
      "2\n",
      "3\n",
      "4\n",
      "0\n",
      "1\n",
      "2\n",
      "3\n",
      "4\n",
      "0\n",
      "1\n",
      "2\n",
      "3\n",
      "4\n",
      "0\n",
      "1\n",
      "2\n",
      "3\n",
      "4\n",
      "0\n",
      "1\n",
      "2\n",
      "3\n",
      "4\n"
     ]
    }
   ],
   "source": [
    "for i in range(0, 5):\n",
    "    for a in range(0, 5):\n",
    "            print(a)"
   ]
  },
  {
   "cell_type": "code",
   "execution_count": 11,
   "id": "ad9d7695",
   "metadata": {},
   "outputs": [
    {
     "name": "stdout",
     "output_type": "stream",
     "text": [
      "462\n"
     ]
    }
   ],
   "source": [
    "# Operando com valores de uma lista com loop for\n",
    "listaB = [32, 53, 85, 10, 15, 17, 19]\n",
    "soma = 0\n",
    "for i in listaB:\n",
    "    double_i = i * 2\n",
    "    soma += double_i\n",
    "print(soma)"
   ]
  },
  {
   "cell_type": "code",
   "execution_count": 16,
   "id": "cb9d45e6",
   "metadata": {},
   "outputs": [
    {
     "name": "stdout",
     "output_type": "stream",
     "text": [
      "[1, 2, 3]\n",
      "[10, 15, 20]\n",
      "[11, 21, 36, 80, 100]\n"
     ]
    }
   ],
   "source": [
    "# loops em listas de listas\n",
    "listas = [[1, 2, 3], [10, 15, 20], [11, 21, 36, 80, 100]]\n",
    "for valor in listas:\n",
    "    print(valor)"
   ]
  },
  {
   "cell_type": "code",
   "execution_count": 19,
   "id": "5dc884fc",
   "metadata": {},
   "outputs": [
    {
     "name": "stdout",
     "output_type": "stream",
     "text": [
      "6\n"
     ]
    }
   ],
   "source": [
    "# utilizando o count para contar o numero de itens de uma lista\n",
    "lista = [10, 55, 96, 47, 63, 31]\n",
    "count = 0\n",
    "for item in lista:\n",
    "    count += 1\n",
    "    \n",
    "print(count)"
   ]
  },
  {
   "cell_type": "code",
   "execution_count": 24,
   "id": "4262b4b6",
   "metadata": {},
   "outputs": [
    {
     "name": "stdout",
     "output_type": "stream",
     "text": [
      "Número não encontrado, tente novamente!\n"
     ]
    }
   ],
   "source": [
    "# podemos utilizar o loop for para pesquisar um item\n",
    "listaC = [1, 2, 3, 5, 6, 10, 15, 16]\n",
    "\n",
    "#loop atrabés da lista\n",
    "for item in listaC:\n",
    "    if item == 500:\n",
    "        print(\"Número encontrado na lista!\")\n",
    "else:\n",
    "    print(\"Número não encontrado, tente novamente!\")"
   ]
  },
  {
   "cell_type": "code",
   "execution_count": null,
   "id": "12588faa",
   "metadata": {},
   "outputs": [],
   "source": []
  }
 ],
 "metadata": {
  "kernelspec": {
   "display_name": "Python 3 (ipykernel)",
   "language": "python",
   "name": "python3"
  },
  "language_info": {
   "codemirror_mode": {
    "name": "ipython",
    "version": 3
   },
   "file_extension": ".py",
   "mimetype": "text/x-python",
   "name": "python",
   "nbconvert_exporter": "python",
   "pygments_lexer": "ipython3",
   "version": "3.10.7"
  }
 },
 "nbformat": 4,
 "nbformat_minor": 5
}
