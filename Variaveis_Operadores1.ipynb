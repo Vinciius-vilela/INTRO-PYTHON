{
 "cells": [
  {
   "cell_type": "markdown",
   "id": "ddbccc82",
   "metadata": {},
   "source": [
    "## Variáveis e operadores"
   ]
  },
  {
   "cell_type": "code",
   "execution_count": 1,
   "id": "58d5f455",
   "metadata": {},
   "outputs": [],
   "source": [
    "variavel_teste = 1"
   ]
  },
  {
   "cell_type": "code",
   "execution_count": 2,
   "id": "4a27229c",
   "metadata": {},
   "outputs": [
    {
     "data": {
      "text/plain": [
       "1"
      ]
     },
     "execution_count": 2,
     "metadata": {},
     "output_type": "execute_result"
    }
   ],
   "source": [
    "variavel_teste"
   ]
  },
  {
   "cell_type": "code",
   "execution_count": null,
   "id": "3a5329c2",
   "metadata": {},
   "outputs": [],
   "source": [
    "Posso imprimir de duas formas. Apenas digitando o nome da variável, e utilizando a função print"
   ]
  },
  {
   "cell_type": "code",
   "execution_count": 4,
   "id": "6209f2ee",
   "metadata": {},
   "outputs": [
    {
     "name": "stdout",
     "output_type": "stream",
     "text": [
      "1\n"
     ]
    }
   ],
   "source": [
    "print (variavel_teste)"
   ]
  },
  {
   "cell_type": "code",
   "execution_count": 5,
   "id": "97aff7a4",
   "metadata": {},
   "outputs": [
    {
     "ename": "NameError",
     "evalue": "name 'var_vazia' is not defined",
     "output_type": "error",
     "traceback": [
      "\u001b[1;31m---------------------------------------------------------------------------\u001b[0m",
      "\u001b[1;31mNameError\u001b[0m                                 Traceback (most recent call last)",
      "\u001b[1;32m~\\AppData\\Local\\Temp/ipykernel_9404/4071162842.py\u001b[0m in \u001b[0;36m<module>\u001b[1;34m\u001b[0m\n\u001b[0;32m      1\u001b[0m \u001b[1;31m# não devemos utilizar variaveis que não foram definidas\u001b[0m\u001b[1;33m\u001b[0m\u001b[1;33m\u001b[0m\u001b[0m\n\u001b[1;32m----> 2\u001b[1;33m \u001b[0mvar_vazia\u001b[0m\u001b[1;33m\u001b[0m\u001b[1;33m\u001b[0m\u001b[0m\n\u001b[0m",
      "\u001b[1;31mNameError\u001b[0m: name 'var_vazia' is not defined"
     ]
    }
   ],
   "source": [
    "# não devemos utilizar variaveis que não foram definidas\n",
    "var_vazia"
   ]
  },
  {
   "cell_type": "code",
   "execution_count": null,
   "id": "c4173915",
   "metadata": {},
   "outputs": [],
   "source": [
    "# Podemos chamar funções como a Type para verificar o tipo da variável criada"
   ]
  },
  {
   "cell_type": "code",
   "execution_count": 6,
   "id": "82862786",
   "metadata": {},
   "outputs": [
    {
     "data": {
      "text/plain": [
       "int"
      ]
     },
     "execution_count": 6,
     "metadata": {},
     "output_type": "execute_result"
    }
   ],
   "source": [
    "type (variavel_teste)"
   ]
  },
  {
   "cell_type": "code",
   "execution_count": 8,
   "id": "3463a4c3",
   "metadata": {},
   "outputs": [],
   "source": [
    "variavel_teste2 = 2.2"
   ]
  },
  {
   "cell_type": "code",
   "execution_count": 9,
   "id": "6258fecb",
   "metadata": {},
   "outputs": [
    {
     "data": {
      "text/plain": [
       "float"
      ]
     },
     "execution_count": 9,
     "metadata": {},
     "output_type": "execute_result"
    }
   ],
   "source": [
    "type (variavel_teste2)"
   ]
  },
  {
   "cell_type": "code",
   "execution_count": 10,
   "id": "ae0a934f",
   "metadata": {},
   "outputs": [],
   "source": [
    "# Uma variável pode ter apenas uma letra, caso queiramos, mas isso não é recomendado"
   ]
  },
  {
   "cell_type": "code",
   "execution_count": 11,
   "id": "8d392ade",
   "metadata": {},
   "outputs": [],
   "source": [
    "x = 1"
   ]
  },
  {
   "cell_type": "code",
   "execution_count": 12,
   "id": "544af3f4",
   "metadata": {},
   "outputs": [
    {
     "data": {
      "text/plain": [
       "1"
      ]
     },
     "execution_count": 12,
     "metadata": {},
     "output_type": "execute_result"
    }
   ],
   "source": [
    "x"
   ]
  },
  {
   "cell_type": "markdown",
   "id": "9f8ad330",
   "metadata": {},
   "source": [
    "## Declaração multimpla"
   ]
  },
  {
   "cell_type": "code",
   "execution_count": null,
   "id": "ddf180fb",
   "metadata": {},
   "outputs": [],
   "source": [
    "# Podemos fazer declarações multiplas, porém, devemos ficar atentos para não nos perdermos no meio do processo"
   ]
  },
  {
   "cell_type": "code",
   "execution_count": 13,
   "id": "4ceb1058",
   "metadata": {},
   "outputs": [],
   "source": [
    "pessoa1, pessoa2, pessoa3 = \"Jair\", \"Luis\", \"Ciro\""
   ]
  },
  {
   "cell_type": "code",
   "execution_count": 14,
   "id": "c04526ff",
   "metadata": {},
   "outputs": [
    {
     "data": {
      "text/plain": [
       "'Jair'"
      ]
     },
     "execution_count": 14,
     "metadata": {},
     "output_type": "execute_result"
    }
   ],
   "source": [
    "pessoa1"
   ]
  },
  {
   "cell_type": "code",
   "execution_count": 15,
   "id": "5bd3247f",
   "metadata": {},
   "outputs": [
    {
     "name": "stdout",
     "output_type": "stream",
     "text": [
      "Luis\n"
     ]
    }
   ],
   "source": [
    "print(pessoa2)"
   ]
  },
  {
   "cell_type": "code",
   "execution_count": 16,
   "id": "80a6e8fe",
   "metadata": {},
   "outputs": [
    {
     "data": {
      "text/plain": [
       "'Ciro'"
      ]
     },
     "execution_count": 16,
     "metadata": {},
     "output_type": "execute_result"
    }
   ],
   "source": [
    "pessoa3"
   ]
  },
  {
   "cell_type": "code",
   "execution_count": null,
   "id": "c73f4cb3",
   "metadata": {},
   "outputs": [],
   "source": [
    "# podemos também criar variáveis com valores de outras variáveis"
   ]
  },
  {
   "cell_type": "code",
   "execution_count": 17,
   "id": "9b6ada67",
   "metadata": {},
   "outputs": [],
   "source": [
    "fruta1 = fruta2 = fruta3 = \"Maçã\""
   ]
  },
  {
   "cell_type": "code",
   "execution_count": 18,
   "id": "40b7ba77",
   "metadata": {},
   "outputs": [
    {
     "data": {
      "text/plain": [
       "'Maçã'"
      ]
     },
     "execution_count": 18,
     "metadata": {},
     "output_type": "execute_result"
    }
   ],
   "source": [
    "fruta1"
   ]
  },
  {
   "cell_type": "code",
   "execution_count": 19,
   "id": "5dafd807",
   "metadata": {},
   "outputs": [
    {
     "data": {
      "text/plain": [
       "'Maçã'"
      ]
     },
     "execution_count": 19,
     "metadata": {},
     "output_type": "execute_result"
    }
   ],
   "source": [
    "fruta2"
   ]
  },
  {
   "cell_type": "code",
   "execution_count": 20,
   "id": "08d51c08",
   "metadata": {},
   "outputs": [
    {
     "ename": "NameError",
     "evalue": "name 'Fruta3' is not defined",
     "output_type": "error",
     "traceback": [
      "\u001b[1;31m---------------------------------------------------------------------------\u001b[0m",
      "\u001b[1;31mNameError\u001b[0m                                 Traceback (most recent call last)",
      "\u001b[1;32m~\\AppData\\Local\\Temp/ipykernel_9404/2086121836.py\u001b[0m in \u001b[0;36m<module>\u001b[1;34m\u001b[0m\n\u001b[1;32m----> 1\u001b[1;33m \u001b[0mFruta3\u001b[0m\u001b[1;33m\u001b[0m\u001b[1;33m\u001b[0m\u001b[0m\n\u001b[0m",
      "\u001b[1;31mNameError\u001b[0m: name 'Fruta3' is not defined"
     ]
    }
   ],
   "source": [
    "Fruta3"
   ]
  },
  {
   "cell_type": "code",
   "execution_count": null,
   "id": "7e4d33ae",
   "metadata": {},
   "outputs": [],
   "source": [
    "# Fique atento!!! Python é case-sensitive. Criamos a variável fruta2, mas não a variável Fruta2.\n",
    "# Letras maiúsculas e minúsculas tem diferença no nome da variável.\n",
    "Fruta3"
   ]
  },
  {
   "cell_type": "markdown",
   "id": "16fe8f8f",
   "metadata": {},
   "source": [
    "## Podemos utilizar letras, números e underline para separar as linhas, mas não podemos começar com números"
   ]
  },
  {
   "cell_type": "code",
   "execution_count": 21,
   "id": "3c6b0050",
   "metadata": {},
   "outputs": [],
   "source": [
    "numero1 = 1"
   ]
  },
  {
   "cell_type": "code",
   "execution_count": 22,
   "id": "b06b1a43",
   "metadata": {},
   "outputs": [
    {
     "data": {
      "text/plain": [
       "1"
      ]
     },
     "execution_count": 22,
     "metadata": {},
     "output_type": "execute_result"
    }
   ],
   "source": [
    "numero1"
   ]
  },
  {
   "cell_type": "code",
   "execution_count": 23,
   "id": "70ee0b15",
   "metadata": {},
   "outputs": [
    {
     "ename": "SyntaxError",
     "evalue": "invalid syntax (Temp/ipykernel_9404/361294705.py, line 1)",
     "output_type": "error",
     "traceback": [
      "\u001b[1;36m  File \u001b[1;32m\"C:\\Users\\Vinicius\\AppData\\Local\\Temp/ipykernel_9404/361294705.py\"\u001b[1;36m, line \u001b[1;32m1\u001b[0m\n\u001b[1;33m    1numero = 10\u001b[0m\n\u001b[1;37m     ^\u001b[0m\n\u001b[1;31mSyntaxError\u001b[0m\u001b[1;31m:\u001b[0m invalid syntax\n"
     ]
    }
   ],
   "source": [
    "1numero = 10"
   ]
  },
  {
   "cell_type": "markdown",
   "id": "6dbc5e2c",
   "metadata": {},
   "source": [
    "## Não podemos utilizar as palavras reservadas como variáveis"
   ]
  },
  {
   "cell_type": "code",
   "execution_count": null,
   "id": "7808a0f6",
   "metadata": {},
   "outputs": [],
   "source": [
    "\n",
    "False\n",
    "class\n",
    "finally\n",
    "is\n",
    "return\n",
    "None\n",
    "continue\n",
    "for\n",
    "lambda\n",
    "try\n",
    "True\n",
    "def\n",
    "from\n",
    "nonlocal\n",
    "while\n",
    "and\n",
    "del\n",
    "global\n",
    "not\n",
    "with\n",
    "as\n",
    "elif\n",
    "if\n",
    "or\n",
    "yield\n",
    "assert\n",
    "else\n",
    "import\n",
    "pass\n",
    "break\n",
    "except\n",
    "in\n",
    "raise\n"
   ]
  },
  {
   "cell_type": "code",
   "execution_count": 24,
   "id": "33e25b41",
   "metadata": {},
   "outputs": [
    {
     "ename": "SyntaxError",
     "evalue": "invalid syntax (Temp/ipykernel_9404/2670791942.py, line 2)",
     "output_type": "error",
     "traceback": [
      "\u001b[1;36m  File \u001b[1;32m\"C:\\Users\\Vinicius\\AppData\\Local\\Temp/ipykernel_9404/2670791942.py\"\u001b[1;36m, line \u001b[1;32m2\u001b[0m\n\u001b[1;33m    break = 1\u001b[0m\n\u001b[1;37m          ^\u001b[0m\n\u001b[1;31mSyntaxError\u001b[0m\u001b[1;31m:\u001b[0m invalid syntax\n"
     ]
    }
   ],
   "source": [
    "# Não podemos usar palavras reservadas como nome de variável\n",
    "break = 1"
   ]
  },
  {
   "cell_type": "markdown",
   "id": "cbc0a6be",
   "metadata": {},
   "source": [
    "## Podemos ter variáveis atribuidas a outras variáveis"
   ]
  },
  {
   "cell_type": "code",
   "execution_count": 26,
   "id": "58e6d99d",
   "metadata": {},
   "outputs": [],
   "source": [
    "Frente = 12"
   ]
  },
  {
   "cell_type": "code",
   "execution_count": 27,
   "id": "682dcb71",
   "metadata": {},
   "outputs": [],
   "source": [
    "Lado = 30"
   ]
  },
  {
   "cell_type": "code",
   "execution_count": 28,
   "id": "7260ea47",
   "metadata": {},
   "outputs": [
    {
     "data": {
      "text/plain": [
       "360"
      ]
     },
     "execution_count": 28,
     "metadata": {},
     "output_type": "execute_result"
    }
   ],
   "source": [
    "Frente * Lado"
   ]
  },
  {
   "cell_type": "code",
   "execution_count": 29,
   "id": "225d4514",
   "metadata": {},
   "outputs": [],
   "source": [
    "#Variável composta por outra Variável"
   ]
  },
  {
   "cell_type": "code",
   "execution_count": 30,
   "id": "fdd4e8d9",
   "metadata": {},
   "outputs": [],
   "source": [
    "Area = Frente * Lado"
   ]
  },
  {
   "cell_type": "code",
   "execution_count": 32,
   "id": "d671dce0",
   "metadata": {},
   "outputs": [
    {
     "name": "stdout",
     "output_type": "stream",
     "text": [
      "360\n"
     ]
    }
   ],
   "source": [
    "print(Area)"
   ]
  },
  {
   "cell_type": "code",
   "execution_count": 33,
   "id": "dcd05bc0",
   "metadata": {},
   "outputs": [],
   "source": [
    "# Devemos ficar atentos a ordem dos sinais matemáticos"
   ]
  },
  {
   "cell_type": "code",
   "execution_count": 34,
   "id": "e224e66d",
   "metadata": {},
   "outputs": [
    {
     "data": {
      "text/plain": [
       "72"
      ]
     },
     "execution_count": 34,
     "metadata": {},
     "output_type": "execute_result"
    }
   ],
   "source": [
    "Frente + 2 * Lado"
   ]
  },
  {
   "cell_type": "code",
   "execution_count": 35,
   "id": "875897db",
   "metadata": {},
   "outputs": [
    {
     "data": {
      "text/plain": [
       "420"
      ]
     },
     "execution_count": 35,
     "metadata": {},
     "output_type": "execute_result"
    }
   ],
   "source": [
    "(Frente + 2) * Lado"
   ]
  },
  {
   "cell_type": "markdown",
   "id": "972c98b6",
   "metadata": {},
   "source": [
    "## Podemos concatenar variáveis também "
   ]
  },
  {
   "cell_type": "code",
   "execution_count": 36,
   "id": "6ecc5ff1",
   "metadata": {},
   "outputs": [],
   "source": [
    "name = \"Roberto\""
   ]
  },
  {
   "cell_type": "code",
   "execution_count": 38,
   "id": "9b6503ea",
   "metadata": {},
   "outputs": [],
   "source": [
    "surname = \"Carlos\""
   ]
  },
  {
   "cell_type": "code",
   "execution_count": 39,
   "id": "9504dcae",
   "metadata": {},
   "outputs": [],
   "source": [
    "fullname = name + \" \" + surname"
   ]
  },
  {
   "cell_type": "code",
   "execution_count": 40,
   "id": "9f61f099",
   "metadata": {},
   "outputs": [
    {
     "data": {
      "text/plain": [
       "'Roberto Carlos'"
      ]
     },
     "execution_count": 40,
     "metadata": {},
     "output_type": "execute_result"
    }
   ],
   "source": [
    "fullname"
   ]
  }
 ],
 "metadata": {
  "kernelspec": {
   "display_name": "Python 3 (ipykernel)",
   "language": "python",
   "name": "python3"
  },
  "language_info": {
   "codemirror_mode": {
    "name": "ipython",
    "version": 3
   },
   "file_extension": ".py",
   "mimetype": "text/x-python",
   "name": "python",
   "nbconvert_exporter": "python",
   "pygments_lexer": "ipython3",
   "version": "3.9.7"
  }
 },
 "nbformat": 4,
 "nbformat_minor": 5
}
