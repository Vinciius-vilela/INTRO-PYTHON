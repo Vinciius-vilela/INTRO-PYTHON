{
 "cells": [
  {
   "cell_type": "markdown",
   "id": "99ba333b",
   "metadata": {},
   "source": [
    "# Lambda"
   ]
  },
  {
   "cell_type": "code",
   "execution_count": 2,
   "id": "c29e5414",
   "metadata": {},
   "outputs": [],
   "source": [
    "# Definindo uma função em três linhas de código\n",
    "def potencia(num):\n",
    "    result = num**2\n",
    "    return result"
   ]
  },
  {
   "cell_type": "code",
   "execution_count": 7,
   "id": "6ac154f9",
   "metadata": {},
   "outputs": [
    {
     "data": {
      "text/plain": [
       "64"
      ]
     },
     "execution_count": 7,
     "metadata": {},
     "output_type": "execute_result"
    }
   ],
   "source": [
    "potencia(8)"
   ]
  },
  {
   "cell_type": "code",
   "execution_count": 11,
   "id": "231f8630",
   "metadata": {},
   "outputs": [],
   "source": [
    "# Definindo uma função com duas linhas de código\n",
    "def potencia (num):\n",
    "    return num ** 2"
   ]
  },
  {
   "cell_type": "code",
   "execution_count": 13,
   "id": "82aad62a",
   "metadata": {},
   "outputs": [
    {
     "data": {
      "text/plain": [
       "100"
      ]
     },
     "execution_count": 13,
     "metadata": {},
     "output_type": "execute_result"
    }
   ],
   "source": [
    "potencia(10)"
   ]
  },
  {
   "cell_type": "code",
   "execution_count": 15,
   "id": "f1e4394f",
   "metadata": {},
   "outputs": [],
   "source": [
    "# Def em uma única linha de código\n",
    "def potencia(num): return num **2"
   ]
  },
  {
   "cell_type": "code",
   "execution_count": 17,
   "id": "4c7df263",
   "metadata": {},
   "outputs": [
    {
     "data": {
      "text/plain": [
       "81"
      ]
     },
     "execution_count": 17,
     "metadata": {},
     "output_type": "execute_result"
    }
   ],
   "source": [
    "potencia(9)"
   ]
  },
  {
   "cell_type": "code",
   "execution_count": 20,
   "id": "2b77cf19",
   "metadata": {},
   "outputs": [],
   "source": [
    "# Potencia usando lambda\n",
    "potencia = lambda teste: teste ** 2"
   ]
  },
  {
   "cell_type": "code",
   "execution_count": 21,
   "id": "adddf5fd",
   "metadata": {},
   "outputs": [
    {
     "data": {
      "text/plain": [
       "25"
      ]
     },
     "execution_count": 21,
     "metadata": {},
     "output_type": "execute_result"
    }
   ],
   "source": [
    "potencia(5)"
   ]
  }
 ],
 "metadata": {
  "kernelspec": {
   "display_name": "Python 3 (ipykernel)",
   "language": "python",
   "name": "python3"
  },
  "language_info": {
   "codemirror_mode": {
    "name": "ipython",
    "version": 3
   },
   "file_extension": ".py",
   "mimetype": "text/x-python",
   "name": "python",
   "nbconvert_exporter": "python",
   "pygments_lexer": "ipython3",
   "version": "3.10.7"
  }
 },
 "nbformat": 4,
 "nbformat_minor": 5
}
