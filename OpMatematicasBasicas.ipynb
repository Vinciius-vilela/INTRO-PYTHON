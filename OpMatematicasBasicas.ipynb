{
 "cells": [
  {
   "cell_type": "markdown",
   "id": "34e5e95d",
   "metadata": {},
   "source": [
    "<font color=green> Experimentando operações matemáticas, em Python 3, através do Jupyter notebook <font>"
   ]
  },
  {
   "cell_type": "code",
   "execution_count": null,
   "id": "38fe241f",
   "metadata": {},
   "outputs": [],
   "source": [
    "#Soma\n",
    "10 + 5"
   ]
  },
  {
   "cell_type": "code",
   "execution_count": 1,
   "id": "c8f7958b",
   "metadata": {},
   "outputs": [
    {
     "data": {
      "text/plain": [
       "3.0"
      ]
     },
     "execution_count": 1,
     "metadata": {},
     "output_type": "execute_result"
    }
   ],
   "source": [
    "#Divisão\n",
    "9 / 3"
   ]
  },
  {
   "cell_type": "code",
   "execution_count": 3,
   "id": "936f3fec",
   "metadata": {},
   "outputs": [
    {
     "data": {
      "text/plain": [
       "37"
      ]
     },
     "execution_count": 3,
     "metadata": {},
     "output_type": "execute_result"
    }
   ],
   "source": [
    "#Subtração\n",
    "50 - 13"
   ]
  },
  {
   "cell_type": "code",
   "execution_count": 5,
   "id": "a57b2095",
   "metadata": {},
   "outputs": [
    {
     "data": {
      "text/plain": [
       "49"
      ]
     },
     "execution_count": 5,
     "metadata": {},
     "output_type": "execute_result"
    }
   ],
   "source": [
    "#Multiplicação\n",
    "7 * 7"
   ]
  },
  {
   "cell_type": "code",
   "execution_count": 6,
   "id": "b7c0ecc2",
   "metadata": {},
   "outputs": [
    {
     "data": {
      "text/plain": [
       "16"
      ]
     },
     "execution_count": 6,
     "metadata": {},
     "output_type": "execute_result"
    }
   ],
   "source": [
    "#Potência\n",
    "4 ** 2"
   ]
  },
  {
   "cell_type": "code",
   "execution_count": 7,
   "id": "15b4bb40",
   "metadata": {},
   "outputs": [
    {
     "data": {
      "text/plain": [
       "3"
      ]
     },
     "execution_count": 7,
     "metadata": {},
     "output_type": "execute_result"
    }
   ],
   "source": [
    "#Módulo\n",
    "10 % 7"
   ]
  }
 ],
 "metadata": {
  "kernelspec": {
   "display_name": "Python 3 (ipykernel)",
   "language": "python",
   "name": "python3"
  },
  "language_info": {
   "codemirror_mode": {
    "name": "ipython",
    "version": 3
   },
   "file_extension": ".py",
   "mimetype": "text/x-python",
   "name": "python",
   "nbconvert_exporter": "python",
   "pygments_lexer": "ipython3",
   "version": "3.9.7"
  }
 },
 "nbformat": 4,
 "nbformat_minor": 5
}
