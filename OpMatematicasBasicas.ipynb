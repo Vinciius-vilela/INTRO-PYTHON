{
 "cells": [
  {
   "cell_type": "markdown",
   "id": "bafe24af",
   "metadata": {},
   "source": [
    "<font color=green> Experimentando operações matemáticas, em Python 3, através do Jupyter notebook <font>"
   ]
  },
  {
   "cell_type": "code",
   "execution_count": null,
   "id": "fb4a384e",
   "metadata": {},
   "outputs": [],
   "source": [
    "#Soma\n",
    "10 + 5"
   ]
  },
  {
   "cell_type": "code",
   "execution_count": null,
   "id": "38a9cdf9",
   "metadata": {},
   "outputs": [],
   "source": [
    "#Divisão\n",
    "9 / 3"
   ]
  },
  {
   "cell_type": "code",
   "execution_count": null,
   "id": "54be3359",
   "metadata": {},
   "outputs": [],
   "source": [
    "#Subtração\n",
    "50 - 13"
   ]
  },
  {
   "cell_type": "code",
   "execution_count": null,
   "id": "2c2c231c",
   "metadata": {},
   "outputs": [],
   "source": [
    "#Multiplicação\n",
    "7 * 7"
   ]
  },
  {
   "cell_type": "code",
   "execution_count": null,
   "id": "20a62b09",
   "metadata": {},
   "outputs": [],
   "source": [
    "#Potência\n",
    "4 ** 2"
   ]
  },
  {
   "cell_type": "code",
   "execution_count": null,
   "id": "869b8991",
   "metadata": {},
   "outputs": [],
   "source": [
    "#Módulo\n",
    "10 % 7"
   ]
  },
  {
   "cell_type": "markdown",
   "id": "0d5455f5",
   "metadata": {},
   "source": [
    "### Funções Type\n",
    "   "
   ]
  },
  {
   "cell_type": "code",
   "execution_count": null,
   "id": "7e132e10",
   "metadata": {},
   "outputs": [],
   "source": [
    "#Usarei essa fução para saber o tipo de determinado dado"
   ]
  },
  {
   "cell_type": "code",
   "execution_count": null,
   "id": "7fdf2066",
   "metadata": {},
   "outputs": [],
   "source": [
    "type(5)"
   ]
  },
  {
   "cell_type": "code",
   "execution_count": null,
   "id": "33d292e3",
   "metadata": {},
   "outputs": [],
   "source": [
    "type(5.0)"
   ]
  },
  {
   "cell_type": "code",
   "execution_count": null,
   "id": "3bab6482",
   "metadata": {},
   "outputs": [],
   "source": [
    "type(\"Texto\")"
   ]
  },
  {
   "cell_type": "code",
   "execution_count": null,
   "id": "208f87bf",
   "metadata": {},
   "outputs": [],
   "source": [
    "nome = 'Vinicius'\n",
    "type(nome)"
   ]
  },
  {
   "cell_type": "code",
   "execution_count": null,
   "id": "0a4c97cd",
   "metadata": {},
   "outputs": [],
   "source": [
    "idade = 25\n",
    "type(idade)"
   ]
  },
  {
   "cell_type": "markdown",
   "id": "c4860276",
   "metadata": {},
   "source": [
    "## Operações com números float"
   ]
  },
  {
   "cell_type": "code",
   "execution_count": null,
   "id": "82c622ae",
   "metadata": {},
   "outputs": [],
   "source": [
    "5.1 + 2.2"
   ]
  },
  {
   "cell_type": "code",
   "execution_count": null,
   "id": "1ac17757",
   "metadata": {},
   "outputs": [],
   "source": [
    "4 + 4.0"
   ]
  },
  {
   "cell_type": "code",
   "execution_count": null,
   "id": "d6d5ba91",
   "metadata": {},
   "outputs": [],
   "source": [
    "4 + 4"
   ]
  },
  {
   "cell_type": "code",
   "execution_count": null,
   "id": "1ba22944",
   "metadata": {},
   "outputs": [],
   "source": [
    "#Usando uma barra, o resultado é float"
   ]
  },
  {
   "cell_type": "code",
   "execution_count": null,
   "id": "a6bf87a5",
   "metadata": {},
   "outputs": [],
   "source": [
    "4 / 2"
   ]
  },
  {
   "cell_type": "code",
   "execution_count": null,
   "id": "a80da70f",
   "metadata": {},
   "outputs": [],
   "source": [
    "#Usando duas barras, o resultado é int"
   ]
  },
  {
   "cell_type": "code",
   "execution_count": null,
   "id": "94a4ba06",
   "metadata": {},
   "outputs": [],
   "source": [
    "4 // 2"
   ]
  },
  {
   "cell_type": "code",
   "execution_count": null,
   "id": "b723d1d8",
   "metadata": {},
   "outputs": [],
   "source": [
    "5 / 2"
   ]
  },
  {
   "cell_type": "code",
   "execution_count": null,
   "id": "246c6f70",
   "metadata": {},
   "outputs": [],
   "source": [
    "#Obs abaixo"
   ]
  },
  {
   "cell_type": "code",
   "execution_count": null,
   "id": "d91a37d1",
   "metadata": {},
   "outputs": [],
   "source": [
    "5 // 2"
   ]
  },
  {
   "cell_type": "markdown",
   "id": "32b5620f",
   "metadata": {},
   "source": [
    "## Executando conversões"
   ]
  },
  {
   "cell_type": "code",
   "execution_count": null,
   "id": "73025021",
   "metadata": {},
   "outputs": [],
   "source": [
    "#Abaixo está listado como executar determinadas conversões"
   ]
  },
  {
   "cell_type": "code",
   "execution_count": null,
   "id": "a7b1f9ed",
   "metadata": {},
   "outputs": [],
   "source": [
    "int(9.0)"
   ]
  },
  {
   "cell_type": "code",
   "execution_count": null,
   "id": "8068d7e0",
   "metadata": {},
   "outputs": [],
   "source": [
    "float(9)"
   ]
  },
  {
   "cell_type": "code",
   "execution_count": null,
   "id": "cd7edce7",
   "metadata": {},
   "outputs": [],
   "source": [
    "int(3.3)"
   ]
  },
  {
   "cell_type": "markdown",
   "id": "440532c2",
   "metadata": {},
   "source": [
    "## Hexadeciais e Binários"
   ]
  },
  {
   "cell_type": "code",
   "execution_count": null,
   "id": "8163adfa",
   "metadata": {},
   "outputs": [],
   "source": [
    "hex(55)"
   ]
  },
  {
   "cell_type": "code",
   "execution_count": null,
   "id": "05c75786",
   "metadata": {},
   "outputs": [],
   "source": [
    "hex(100)"
   ]
  },
  {
   "cell_type": "code",
   "execution_count": null,
   "id": "0deffda5",
   "metadata": {},
   "outputs": [],
   "source": [
    "#binários"
   ]
  },
  {
   "cell_type": "code",
   "execution_count": null,
   "id": "9c091782",
   "metadata": {},
   "outputs": [],
   "source": [
    "bin(2)"
   ]
  },
  {
   "cell_type": "code",
   "execution_count": null,
   "id": "e9dd64dc",
   "metadata": {},
   "outputs": [],
   "source": [
    "bin(330)"
   ]
  },
  {
   "cell_type": "markdown",
   "id": "65716b51",
   "metadata": {},
   "source": [
    "## Funções abs, round e pow"
   ]
  },
  {
   "cell_type": "code",
   "execution_count": null,
   "id": "c311ff5e",
   "metadata": {},
   "outputs": [],
   "source": [
    "# Retorna o valor absoluto"
   ]
  },
  {
   "cell_type": "code",
   "execution_count": null,
   "id": "82d311a3",
   "metadata": {},
   "outputs": [],
   "source": [
    "abs(-25)"
   ]
  },
  {
   "cell_type": "code",
   "execution_count": null,
   "id": "7fffdb08",
   "metadata": {},
   "outputs": [],
   "source": [
    "abs(25)"
   ]
  },
  {
   "cell_type": "code",
   "execution_count": null,
   "id": "af06a111",
   "metadata": {},
   "outputs": [],
   "source": [
    "# Retorna o valor com arredondamento, onde a virgula informa a quantidade de casas"
   ]
  },
  {
   "cell_type": "code",
   "execution_count": null,
   "id": "9ec5ba5f",
   "metadata": {},
   "outputs": [],
   "source": [
    "round(3.14151922, 3)"
   ]
  },
  {
   "cell_type": "code",
   "execution_count": null,
   "id": "f552be5e",
   "metadata": {},
   "outputs": [],
   "source": [
    "# Potência"
   ]
  },
  {
   "cell_type": "code",
   "execution_count": 2,
   "id": "56d5f113",
   "metadata": {},
   "outputs": [
    {
     "data": {
      "text/plain": [
       "16"
      ]
     },
     "execution_count": 2,
     "metadata": {},
     "output_type": "execute_result"
    }
   ],
   "source": [
    "pow(4,2)"
   ]
  },
  {
   "cell_type": "code",
   "execution_count": 1,
   "id": "427855ed",
   "metadata": {},
   "outputs": [
    {
     "data": {
      "text/plain": [
       "125"
      ]
     },
     "execution_count": 1,
     "metadata": {},
     "output_type": "execute_result"
    }
   ],
   "source": [
    "pow(5,3)"
   ]
  },
  {
   "cell_type": "code",
   "execution_count": null,
   "id": "ae868892",
   "metadata": {},
   "outputs": [],
   "source": []
  }
 ],
 "metadata": {
  "kernelspec": {
   "display_name": "Python 3 (ipykernel)",
   "language": "python",
   "name": "python3"
  },
  "language_info": {
   "codemirror_mode": {
    "name": "ipython",
    "version": 3
   },
   "file_extension": ".py",
   "mimetype": "text/x-python",
   "name": "python",
   "nbconvert_exporter": "python",
   "pygments_lexer": "ipython3",
   "version": "3.9.7"
  }
 },
 "nbformat": 4,
 "nbformat_minor": 5
}
