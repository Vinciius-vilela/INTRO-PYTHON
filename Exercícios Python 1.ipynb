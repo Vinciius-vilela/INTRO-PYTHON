{
 "cells": [
  {
   "cell_type": "code",
   "execution_count": 2,
   "id": "5600b2b3",
   "metadata": {},
   "outputs": [],
   "source": [
    "# exercicio 1\n",
    "lista_1 = [1, 2, 3, 4, 5, 6, 7, 8, 9, 10]"
   ]
  },
  {
   "cell_type": "code",
   "execution_count": 7,
   "id": "27f535da",
   "metadata": {},
   "outputs": [
    {
     "name": "stdout",
     "output_type": "stream",
     "text": [
      "[1, 2, 3, 4, 5, 6, 7, 8, 9, 10]\n"
     ]
    }
   ],
   "source": [
    "print(lista_1)"
   ]
  },
  {
   "cell_type": "code",
   "execution_count": 9,
   "id": "0a951294",
   "metadata": {},
   "outputs": [],
   "source": [
    "# exercicio 2\n",
    "lista_2 = [\"objeto1\", \"objeto2\", \"objeto3\", \"obejeto4\", \"objeto5\"]"
   ]
  },
  {
   "cell_type": "code",
   "execution_count": 12,
   "id": "5d10a6cc",
   "metadata": {},
   "outputs": [
    {
     "data": {
      "text/plain": [
       "['objeto1', 'objeto2', 'objeto3', 'obejeto4', 'objeto5']"
      ]
     },
     "execution_count": 12,
     "metadata": {},
     "output_type": "execute_result"
    }
   ],
   "source": [
    "lista_2"
   ]
  },
  {
   "cell_type": "code",
   "execution_count": 14,
   "id": "ee47d3a2",
   "metadata": {},
   "outputs": [],
   "source": [
    "# exercício 3\n",
    "string1 = [\"texto1\"]"
   ]
  },
  {
   "cell_type": "code",
   "execution_count": 16,
   "id": "759ea208",
   "metadata": {},
   "outputs": [],
   "source": [
    "string2 = [\"texto2\"]"
   ]
  },
  {
   "cell_type": "code",
   "execution_count": 18,
   "id": "8b87f96a",
   "metadata": {},
   "outputs": [],
   "source": [
    "string3 = string1 + string2"
   ]
  },
  {
   "cell_type": "code",
   "execution_count": 20,
   "id": "24a4a6a5",
   "metadata": {},
   "outputs": [
    {
     "data": {
      "text/plain": [
       "['texto1', 'texto2']"
      ]
     },
     "execution_count": 20,
     "metadata": {},
     "output_type": "execute_result"
    }
   ],
   "source": [
    "string3"
   ]
  },
  {
   "cell_type": "code",
   "execution_count": 22,
   "id": "d5d3760e",
   "metadata": {},
   "outputs": [],
   "source": [
    "# exercício 4\n",
    "tupla1 = (1, 2, 2, 3, 4, 4, 4, 5)"
   ]
  },
  {
   "cell_type": "code",
   "execution_count": 24,
   "id": "5a6d7f68",
   "metadata": {},
   "outputs": [
    {
     "data": {
      "text/plain": [
       "3"
      ]
     },
     "execution_count": 24,
     "metadata": {},
     "output_type": "execute_result"
    }
   ],
   "source": [
    "tupla1.count(4)"
   ]
  },
  {
   "cell_type": "code",
   "execution_count": 27,
   "id": "443edc0b",
   "metadata": {},
   "outputs": [],
   "source": [
    "# exercício 5\n",
    "dicionario_vazio = {}"
   ]
  },
  {
   "cell_type": "code",
   "execution_count": 29,
   "id": "08a1d77c",
   "metadata": {},
   "outputs": [
    {
     "name": "stdout",
     "output_type": "stream",
     "text": [
      "{}\n"
     ]
    }
   ],
   "source": [
    "print(dicionario_vazio)"
   ]
  },
  {
   "cell_type": "code",
   "execution_count": 73,
   "id": "4ce857bd",
   "metadata": {},
   "outputs": [],
   "source": [
    "# exercicio 6\n",
    "dicionario2 = {\"chave1\": \"valor1\", \"chave2\": \"valor2\", \"chave3\": \"valor3\"}"
   ]
  },
  {
   "cell_type": "code",
   "execution_count": 74,
   "id": "b06a53d5",
   "metadata": {},
   "outputs": [
    {
     "data": {
      "text/plain": [
       "{'chave1': 'valor1', 'chave2': 'valor2', 'chave3': 'valor3'}"
      ]
     },
     "execution_count": 74,
     "metadata": {},
     "output_type": "execute_result"
    }
   ],
   "source": [
    "dicionario2"
   ]
  },
  {
   "cell_type": "code",
   "execution_count": 77,
   "id": "7c4897cd",
   "metadata": {},
   "outputs": [],
   "source": [
    "# exercício 7\n",
    "dicionario2[\"chave4\"] = \"valor4\""
   ]
  },
  {
   "cell_type": "code",
   "execution_count": 78,
   "id": "91c34d82",
   "metadata": {},
   "outputs": [
    {
     "data": {
      "text/plain": [
       "{'chave1': 'valor1',\n",
       " 'chave2': 'valor2',\n",
       " 'chave3': 'valor3',\n",
       " 'chave4': 'valor4'}"
      ]
     },
     "execution_count": 78,
     "metadata": {},
     "output_type": "execute_result"
    }
   ],
   "source": [
    "dicionario2"
   ]
  },
  {
   "cell_type": "code",
   "execution_count": 44,
   "id": "c52f73ae",
   "metadata": {},
   "outputs": [],
   "source": [
    "# exercicio 8\n",
    "dicionario3 = {\"chave1\": \"valor1\", \"chave2\": \"valor2\", \"chave3\": [10, 20]}"
   ]
  },
  {
   "cell_type": "code",
   "execution_count": 48,
   "id": "5dfd8290",
   "metadata": {},
   "outputs": [
    {
     "data": {
      "text/plain": [
       "[10, 20]"
      ]
     },
     "execution_count": 48,
     "metadata": {},
     "output_type": "execute_result"
    }
   ],
   "source": [
    "dicionario3[\"chave3\"]"
   ]
  },
  {
   "cell_type": "code",
   "execution_count": 50,
   "id": "f6b59afb",
   "metadata": {},
   "outputs": [],
   "source": [
    "# exercicio 9\n",
    "lista_4_elementos = [\"string1\", (\"elemento 1\", 2), {\"chave1\": \"valor1\", \"chave2\": \"valor2\"}, 10.55]"
   ]
  },
  {
   "cell_type": "code",
   "execution_count": 52,
   "id": "05f1ff8a",
   "metadata": {},
   "outputs": [
    {
     "data": {
      "text/plain": [
       "'string1'"
      ]
     },
     "execution_count": 52,
     "metadata": {},
     "output_type": "execute_result"
    }
   ],
   "source": [
    "lista_4_elementos[0]"
   ]
  },
  {
   "cell_type": "code",
   "execution_count": 54,
   "id": "1139bac9",
   "metadata": {},
   "outputs": [
    {
     "data": {
      "text/plain": [
       "('elemento 1', 2)"
      ]
     },
     "execution_count": 54,
     "metadata": {},
     "output_type": "execute_result"
    }
   ],
   "source": [
    "lista_4_elementos[1]"
   ]
  },
  {
   "cell_type": "code",
   "execution_count": 56,
   "id": "71419010",
   "metadata": {},
   "outputs": [
    {
     "data": {
      "text/plain": [
       "['string1', ('elemento 1', 2)]"
      ]
     },
     "execution_count": 56,
     "metadata": {},
     "output_type": "execute_result"
    }
   ],
   "source": [
    "lista_4_elementos[0:2]"
   ]
  },
  {
   "cell_type": "code",
   "execution_count": 58,
   "id": "8cf6b4d8",
   "metadata": {},
   "outputs": [
    {
     "data": {
      "text/plain": [
       "10.55"
      ]
     },
     "execution_count": 58,
     "metadata": {},
     "output_type": "execute_result"
    }
   ],
   "source": [
    "lista_4_elementos[3]"
   ]
  },
  {
   "cell_type": "code",
   "execution_count": 60,
   "id": "105dd333",
   "metadata": {},
   "outputs": [
    {
     "data": {
      "text/plain": [
       "['string1', ('elemento 1', 2), {'chave1': 'valor1', 'chave2': 'valor2'}]"
      ]
     },
     "execution_count": 60,
     "metadata": {},
     "output_type": "execute_result"
    }
   ],
   "source": [
    "lista_4_elementos[0:3]"
   ]
  },
  {
   "cell_type": "code",
   "execution_count": 62,
   "id": "6fdf067d",
   "metadata": {},
   "outputs": [
    {
     "data": {
      "text/plain": [
       "['string1', ('elemento 1', 2), {'chave1': 'valor1', 'chave2': 'valor2'}, 10.55]"
      ]
     },
     "execution_count": 62,
     "metadata": {},
     "output_type": "execute_result"
    }
   ],
   "source": [
    "lista_4_elementos[0:4]"
   ]
  },
  {
   "cell_type": "code",
   "execution_count": 64,
   "id": "3610f2d4",
   "metadata": {},
   "outputs": [],
   "source": [
    "# exercicio 10\n",
    "frase = \"Cientista de Dados é o profissional mais sexy do século XXI\""
   ]
  },
  {
   "cell_type": "code",
   "execution_count": 79,
   "id": "2deb5e05",
   "metadata": {},
   "outputs": [
    {
     "data": {
      "text/plain": [
       "'Cientista de Dados'"
      ]
     },
     "execution_count": 79,
     "metadata": {},
     "output_type": "execute_result"
    }
   ],
   "source": [
    "frase[0:18]"
   ]
  }
 ],
 "metadata": {
  "kernelspec": {
   "display_name": "Python 3 (ipykernel)",
   "language": "python",
   "name": "python3"
  },
  "language_info": {
   "codemirror_mode": {
    "name": "ipython",
    "version": 3
   },
   "file_extension": ".py",
   "mimetype": "text/x-python",
   "name": "python",
   "nbconvert_exporter": "python",
   "pygments_lexer": "ipython3",
   "version": "3.10.7"
  }
 },
 "nbformat": 4,
 "nbformat_minor": 5
}
