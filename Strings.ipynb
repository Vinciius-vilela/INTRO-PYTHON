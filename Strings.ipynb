{
 "cells": [
  {
   "cell_type": "markdown",
   "id": "c694304e",
   "metadata": {},
   "source": [
    "## Strings"
   ]
  },
  {
   "cell_type": "code",
   "execution_count": 1,
   "id": "f593d02f",
   "metadata": {},
   "outputs": [],
   "source": [
    "#Para criarmos uma String em Python, podemos utilizar aspas simples ou aspas duplas"
   ]
  },
  {
   "cell_type": "code",
   "execution_count": 2,
   "id": "36639134",
   "metadata": {},
   "outputs": [
    {
     "data": {
      "text/plain": [
       "'Esse texo é uma string'"
      ]
     },
     "execution_count": 2,
     "metadata": {},
     "output_type": "execute_result"
    }
   ],
   "source": [
    "'Esse texo é uma string'"
   ]
  },
  {
   "cell_type": "code",
   "execution_count": 3,
   "id": "fca006d0",
   "metadata": {},
   "outputs": [
    {
     "data": {
      "text/plain": [
       "'Esse texto também é uma string'"
      ]
     },
     "execution_count": 3,
     "metadata": {},
     "output_type": "execute_result"
    }
   ],
   "source": [
    "\"Esse texto também é uma string\""
   ]
  },
  {
   "cell_type": "code",
   "execution_count": 4,
   "id": "ab9b1e37",
   "metadata": {},
   "outputs": [],
   "source": [
    "#Além de também ser possível combinarmos aspas simples com aspas duplas"
   ]
  },
  {
   "cell_type": "code",
   "execution_count": 5,
   "id": "ea4dc2bc",
   "metadata": {},
   "outputs": [
    {
     "data": {
      "text/plain": [
       "\"Esse texto está entre aspas duplas 'E esse, está dentro do anterior, porém com aspas simples'\""
      ]
     },
     "execution_count": 5,
     "metadata": {},
     "output_type": "execute_result"
    }
   ],
   "source": [
    "\"Esse texto está entre aspas duplas 'E esse, está dentro do anterior, porém com aspas simples'\""
   ]
  },
  {
   "cell_type": "markdown",
   "id": "463666b6",
   "metadata": {},
   "source": [
    "### Imprimindo uma String"
   ]
  },
  {
   "cell_type": "code",
   "execution_count": 6,
   "id": "900e7004",
   "metadata": {},
   "outputs": [],
   "source": [
    "#Para imprimirmos uma String, podemos só digita-la e executa-la, ou podemos também chamar a função Print"
   ]
  },
  {
   "cell_type": "code",
   "execution_count": 7,
   "id": "ab28107a",
   "metadata": {},
   "outputs": [
    {
     "name": "stdout",
     "output_type": "stream",
     "text": [
      "Esse texto é uma string\n"
     ]
    }
   ],
   "source": [
    "print ('Esse texto é uma string')"
   ]
  },
  {
   "cell_type": "code",
   "execution_count": 8,
   "id": "dbdde3c2",
   "metadata": {},
   "outputs": [
    {
     "name": "stdout",
     "output_type": "stream",
     "text": [
      "Esse texto também é uma string\n"
     ]
    }
   ],
   "source": [
    "print (\"Esse texto também é uma string\")"
   ]
  },
  {
   "cell_type": "code",
   "execution_count": 9,
   "id": "ecdfaa39",
   "metadata": {},
   "outputs": [
    {
     "name": "stdout",
     "output_type": "stream",
     "text": [
      "Esse texto está entre aspas duplas 'E esse, está dentro do anterior, porém com aspas simples'\n"
     ]
    }
   ],
   "source": [
    "print (\"Esse texto está entre aspas duplas 'E esse, está dentro do anterior, porém com aspas simples'\")"
   ]
  },
  {
   "cell_type": "code",
   "execution_count": 10,
   "id": "b3d0cbaa",
   "metadata": {},
   "outputs": [],
   "source": [
    "#Há uma String específica para a quebra de linha, que nesse caso, é o \\n"
   ]
  },
  {
   "cell_type": "code",
   "execution_count": 11,
   "id": "e758c503",
   "metadata": {},
   "outputs": [
    {
     "name": "stdout",
     "output_type": "stream",
     "text": [
      "Esse texto é\n",
      "uma string\n"
     ]
    }
   ],
   "source": [
    "print (\"Esse texto é\\numa string\")"
   ]
  },
  {
   "cell_type": "code",
   "execution_count": 14,
   "id": "a5944774",
   "metadata": {},
   "outputs": [
    {
     "name": "stdout",
     "output_type": "stream",
     "text": [
      "primeiro\n",
      "segundo\n",
      "terceiro\n"
     ]
    }
   ],
   "source": [
    "print (\"primeiro\\nsegundo\\nterceiro\")"
   ]
  },
  {
   "cell_type": "markdown",
   "id": "c4010843",
   "metadata": {},
   "source": [
    "## Indexando Strings"
   ]
  },
  {
   "cell_type": "code",
   "execution_count": 15,
   "id": "e4701e67",
   "metadata": {},
   "outputs": [],
   "source": [
    "#Vou atribuir uma string à variável S"
   ]
  },
  {
   "cell_type": "code",
   "execution_count": 16,
   "id": "8e811bb1",
   "metadata": {},
   "outputs": [],
   "source": [
    "s = 'Texto teste'"
   ]
  },
  {
   "cell_type": "code",
   "execution_count": 17,
   "id": "89465005",
   "metadata": {},
   "outputs": [
    {
     "name": "stdout",
     "output_type": "stream",
     "text": [
      "Texto teste\n"
     ]
    }
   ],
   "source": [
    "print (s)"
   ]
  },
  {
   "cell_type": "code",
   "execution_count": 18,
   "id": "47331d80",
   "metadata": {},
   "outputs": [
    {
     "data": {
      "text/plain": [
       "'Texto teste'"
      ]
     },
     "execution_count": 18,
     "metadata": {},
     "output_type": "execute_result"
    }
   ],
   "source": [
    "s"
   ]
  },
  {
   "cell_type": "code",
   "execution_count": 20,
   "id": "ffc71d59",
   "metadata": {},
   "outputs": [],
   "source": [
    "#Abaixo, vou chamar apenas a primeira posição \"0\""
   ]
  },
  {
   "cell_type": "code",
   "execution_count": 21,
   "id": "df1aa206",
   "metadata": {},
   "outputs": [
    {
     "name": "stdout",
     "output_type": "stream",
     "text": [
      "T\n"
     ]
    }
   ],
   "source": [
    "print(s[0])"
   ]
  },
  {
   "cell_type": "code",
   "execution_count": 22,
   "id": "e1a292b6",
   "metadata": {},
   "outputs": [
    {
     "name": "stdout",
     "output_type": "stream",
     "text": [
      "e\n"
     ]
    }
   ],
   "source": [
    "print(s[1])"
   ]
  },
  {
   "cell_type": "code",
   "execution_count": 23,
   "id": "699ab930",
   "metadata": {},
   "outputs": [
    {
     "name": "stdout",
     "output_type": "stream",
     "text": [
      "x\n"
     ]
    }
   ],
   "source": [
    "print(s[2])"
   ]
  },
  {
   "cell_type": "code",
   "execution_count": 24,
   "id": "fcad6947",
   "metadata": {},
   "outputs": [],
   "source": [
    "#Podemos usar : para fatiar a String"
   ]
  },
  {
   "cell_type": "code",
   "execution_count": 26,
   "id": "8bc0608a",
   "metadata": {},
   "outputs": [],
   "source": [
    "#Abaixo, vou trazer da posição 1 \"Segunda\", até a ultima posição"
   ]
  },
  {
   "cell_type": "code",
   "execution_count": 25,
   "id": "d03e2aaa",
   "metadata": {},
   "outputs": [
    {
     "name": "stdout",
     "output_type": "stream",
     "text": [
      "exto teste\n"
     ]
    }
   ],
   "source": [
    "print(s[1:])"
   ]
  },
  {
   "cell_type": "code",
   "execution_count": 27,
   "id": "9666540a",
   "metadata": {},
   "outputs": [],
   "source": [
    "#Agora quetro trazer da posição 0 \"primeira\" até a posição anterior ao indexador 7"
   ]
  },
  {
   "cell_type": "code",
   "execution_count": 28,
   "id": "801ca7ff",
   "metadata": {},
   "outputs": [
    {
     "name": "stdout",
     "output_type": "stream",
     "text": [
      "Texto t\n"
     ]
    }
   ],
   "source": [
    "print(s[:7])"
   ]
  },
  {
   "cell_type": "code",
   "execution_count": 29,
   "id": "5d320f0b",
   "metadata": {},
   "outputs": [],
   "source": [
    "#Vale lembrar que o fatiamento é exclusivo, ou seja, quando eu utilizar \":2\", por exemplo, ele trará tudo até a posição anterior"
   ]
  },
  {
   "cell_type": "code",
   "execution_count": 30,
   "id": "5ce08641",
   "metadata": {},
   "outputs": [],
   "source": [
    "#à posiçaõ 2"
   ]
  },
  {
   "cell_type": "code",
   "execution_count": 31,
   "id": "ba71942c",
   "metadata": {},
   "outputs": [],
   "source": [
    "#Podemos trazer de trás pra frente também, mas nesse caso, usaremos o negativo"
   ]
  },
  {
   "cell_type": "code",
   "execution_count": 32,
   "id": "8e231454",
   "metadata": {},
   "outputs": [
    {
     "name": "stdout",
     "output_type": "stream",
     "text": [
      "Texto te\n"
     ]
    }
   ],
   "source": [
    "print(s[:-3])"
   ]
  },
  {
   "cell_type": "code",
   "execution_count": 33,
   "id": "9ebbca55",
   "metadata": {},
   "outputs": [
    {
     "name": "stdout",
     "output_type": "stream",
     "text": [
      "Texto tes\n"
     ]
    }
   ],
   "source": [
    "print(s[:-2])"
   ]
  },
  {
   "cell_type": "code",
   "execution_count": 34,
   "id": "51000f99",
   "metadata": {},
   "outputs": [
    {
     "name": "stdout",
     "output_type": "stream",
     "text": [
      "xto tes\n"
     ]
    }
   ],
   "source": [
    "print(s[2:-2])"
   ]
  },
  {
   "cell_type": "code",
   "execution_count": 35,
   "id": "7c3419f4",
   "metadata": {},
   "outputs": [],
   "source": [
    "#E assim, sucessivamente"
   ]
  },
  {
   "cell_type": "code",
   "execution_count": null,
   "id": "4eda2525",
   "metadata": {},
   "outputs": [],
   "source": []
  }
 ],
 "metadata": {
  "kernelspec": {
   "display_name": "Python 3 (ipykernel)",
   "language": "python",
   "name": "python3"
  },
  "language_info": {
   "codemirror_mode": {
    "name": "ipython",
    "version": 3
   },
   "file_extension": ".py",
   "mimetype": "text/x-python",
   "name": "python",
   "nbconvert_exporter": "python",
   "pygments_lexer": "ipython3",
   "version": "3.9.7"
  }
 },
 "nbformat": 4,
 "nbformat_minor": 5
}
